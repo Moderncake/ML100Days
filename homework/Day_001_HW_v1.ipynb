{
 "cells": [
  {
   "cell_type": "code",
   "execution_count": 3,
   "id": "9d392341",
   "metadata": {},
   "outputs": [],
   "source": [
    "import numpy as np\n",
    "w=3\n",
    "b=0.5\n",
    "x_lin=np.linspace(0,100,101) #區間的數值切成101等分陣列儲存成101個數字#\n",
    "y=(x_lin+np.random.randn(101)*5)*w+b #101個來自於常態分配的樣本#\n",
    "y_hat=x_lin*w+b "
   ]
  },
  {
   "cell_type": "code",
   "execution_count": 6,
   "id": "91024a1f",
   "metadata": {},
   "outputs": [],
   "source": [
    "def mean_square_error(y,yp):\n",
    "    # MSE=\\frac{1}{N}\\=sum_{i=1}^{n}{(Y_i-\\hat{Y}_i)^2}\n",
    "    mse=MSE=sum(y-yp)**2 /len(y)\n",
    "    return mse"
   ]
  },
  {
   "cell_type": "code",
   "execution_count": 7,
   "id": "99304e4b",
   "metadata": {},
   "outputs": [
    {
     "name": "stdout",
     "output_type": "stream",
     "text": [
      "The mean square error is 170.335046\n"
     ]
    }
   ],
   "source": [
    "MSE=mean_square_error(y,y_hat)\n",
    "print(\"The mean square error is% 3f\" % (MSE))"
   ]
  }
 ],
 "metadata": {
  "kernelspec": {
   "display_name": "Python 3 (ipykernel)",
   "language": "python",
   "name": "python3"
  },
  "language_info": {
   "codemirror_mode": {
    "name": "ipython",
    "version": 3
   },
   "file_extension": ".py",
   "mimetype": "text/x-python",
   "name": "python",
   "nbconvert_exporter": "python",
   "pygments_lexer": "ipython3",
   "version": "3.9.7"
  }
 },
 "nbformat": 4,
 "nbformat_minor": 5
}
